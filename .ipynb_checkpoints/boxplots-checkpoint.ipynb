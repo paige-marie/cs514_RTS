{
 "cells": [
  {
   "cell_type": "code",
   "execution_count": 1,
   "id": "2404d67a",
   "metadata": {},
   "outputs": [],
   "source": [
    "import pandas as pd\n",
    "from scipy.stats import ttest_ind, mannwhitneyu\n",
    "import matplotlib.pyplot as plt\n",
    "import seaborn as sns"
   ]
  },
  {
   "cell_type": "code",
   "execution_count": 2,
   "id": "bf6dbdf5",
   "metadata": {},
   "outputs": [],
   "source": [
    "csv_path = \"./all_results.csv\""
   ]
  },
  {
   "cell_type": "code",
   "execution_count": 3,
   "id": "e00ecf0e",
   "metadata": {
    "scrolled": false
   },
   "outputs": [
    {
     "data": {
      "text/html": [
       "<div>\n",
       "<style scoped>\n",
       "    .dataframe tbody tr th:only-of-type {\n",
       "        vertical-align: middle;\n",
       "    }\n",
       "\n",
       "    .dataframe tbody tr th {\n",
       "        vertical-align: top;\n",
       "    }\n",
       "\n",
       "    .dataframe thead th {\n",
       "        text-align: right;\n",
       "    }\n",
       "</style>\n",
       "<table border=\"1\" class=\"dataframe\">\n",
       "  <thead>\n",
       "    <tr style=\"text-align: right;\">\n",
       "      <th></th>\n",
       "      <th>subject</th>\n",
       "      <th>rev</th>\n",
       "      <th>tool</th>\n",
       "      <th>time_full_suite</th>\n",
       "      <th>end-to-end</th>\n",
       "      <th>endtoend_reduction</th>\n",
       "      <th>total_tests</th>\n",
       "      <th>selected_test_classes</th>\n",
       "      <th>percent_classes_selected</th>\n",
       "      <th>changed_classes</th>\n",
       "      <th>...</th>\n",
       "      <th>main_files</th>\n",
       "      <th>main_loc</th>\n",
       "      <th>test_files</th>\n",
       "      <th>test_loc</th>\n",
       "      <th>total_classes</th>\n",
       "      <th>percent_of_test_classes</th>\n",
       "      <th>all_test_cases</th>\n",
       "      <th>selected_test_cases</th>\n",
       "      <th>testsuite_reduction</th>\n",
       "      <th>testsuite_reduction%</th>\n",
       "    </tr>\n",
       "  </thead>\n",
       "  <tbody>\n",
       "    <tr>\n",
       "      <th>6</th>\n",
       "      <td>asterisk</td>\n",
       "      <td>rev_10</td>\n",
       "      <td>STARTS</td>\n",
       "      <td>8.637</td>\n",
       "      <td>8.365</td>\n",
       "      <td>7.668</td>\n",
       "      <td>46</td>\n",
       "      <td>6</td>\n",
       "      <td>13.043478</td>\n",
       "      <td>6.0</td>\n",
       "      <td>...</td>\n",
       "      <td>737</td>\n",
       "      <td>51195</td>\n",
       "      <td>58</td>\n",
       "      <td>4962</td>\n",
       "      <td>795</td>\n",
       "      <td>7.295597</td>\n",
       "      <td>252</td>\n",
       "      <td>35</td>\n",
       "      <td>0.861111</td>\n",
       "      <td>86.111111</td>\n",
       "    </tr>\n",
       "    <tr>\n",
       "      <th>7</th>\n",
       "      <td>asterisk</td>\n",
       "      <td>rev_10</td>\n",
       "      <td>Ekstazi</td>\n",
       "      <td>9.027</td>\n",
       "      <td>8.402</td>\n",
       "      <td>8.096</td>\n",
       "      <td>46</td>\n",
       "      <td>4</td>\n",
       "      <td>8.695652</td>\n",
       "      <td>6.0</td>\n",
       "      <td>...</td>\n",
       "      <td>737</td>\n",
       "      <td>51195</td>\n",
       "      <td>58</td>\n",
       "      <td>4962</td>\n",
       "      <td>795</td>\n",
       "      <td>7.295597</td>\n",
       "      <td>252</td>\n",
       "      <td>12</td>\n",
       "      <td>0.952381</td>\n",
       "      <td>95.238095</td>\n",
       "    </tr>\n",
       "    <tr>\n",
       "      <th>12</th>\n",
       "      <td>asterisk</td>\n",
       "      <td>rev_11</td>\n",
       "      <td>STARTS</td>\n",
       "      <td>22.600</td>\n",
       "      <td>7.894</td>\n",
       "      <td>22.251</td>\n",
       "      <td>46</td>\n",
       "      <td>2</td>\n",
       "      <td>4.347826</td>\n",
       "      <td>1.0</td>\n",
       "      <td>...</td>\n",
       "      <td>737</td>\n",
       "      <td>51210</td>\n",
       "      <td>58</td>\n",
       "      <td>4962</td>\n",
       "      <td>795</td>\n",
       "      <td>7.295597</td>\n",
       "      <td>252</td>\n",
       "      <td>23</td>\n",
       "      <td>0.908730</td>\n",
       "      <td>90.873016</td>\n",
       "    </tr>\n",
       "    <tr>\n",
       "      <th>13</th>\n",
       "      <td>asterisk</td>\n",
       "      <td>rev_11</td>\n",
       "      <td>Ekstazi</td>\n",
       "      <td>22.694</td>\n",
       "      <td>8.695</td>\n",
       "      <td>22.311</td>\n",
       "      <td>46</td>\n",
       "      <td>1</td>\n",
       "      <td>2.173913</td>\n",
       "      <td>1.0</td>\n",
       "      <td>...</td>\n",
       "      <td>737</td>\n",
       "      <td>51210</td>\n",
       "      <td>58</td>\n",
       "      <td>4962</td>\n",
       "      <td>795</td>\n",
       "      <td>7.295597</td>\n",
       "      <td>252</td>\n",
       "      <td>22</td>\n",
       "      <td>0.912698</td>\n",
       "      <td>91.269841</td>\n",
       "    </tr>\n",
       "    <tr>\n",
       "      <th>18</th>\n",
       "      <td>validator</td>\n",
       "      <td>rev_12</td>\n",
       "      <td>STARTS</td>\n",
       "      <td>23.441</td>\n",
       "      <td>7.654</td>\n",
       "      <td>23.114</td>\n",
       "      <td>71</td>\n",
       "      <td>1</td>\n",
       "      <td>1.408451</td>\n",
       "      <td>1.0</td>\n",
       "      <td>...</td>\n",
       "      <td>64</td>\n",
       "      <td>7549</td>\n",
       "      <td>84</td>\n",
       "      <td>8911</td>\n",
       "      <td>148</td>\n",
       "      <td>56.756757</td>\n",
       "      <td>576</td>\n",
       "      <td>12</td>\n",
       "      <td>0.979167</td>\n",
       "      <td>97.916667</td>\n",
       "    </tr>\n",
       "    <tr>\n",
       "      <th>...</th>\n",
       "      <td>...</td>\n",
       "      <td>...</td>\n",
       "      <td>...</td>\n",
       "      <td>...</td>\n",
       "      <td>...</td>\n",
       "      <td>...</td>\n",
       "      <td>...</td>\n",
       "      <td>...</td>\n",
       "      <td>...</td>\n",
       "      <td>...</td>\n",
       "      <td>...</td>\n",
       "      <td>...</td>\n",
       "      <td>...</td>\n",
       "      <td>...</td>\n",
       "      <td>...</td>\n",
       "      <td>...</td>\n",
       "      <td>...</td>\n",
       "      <td>...</td>\n",
       "      <td>...</td>\n",
       "      <td>...</td>\n",
       "      <td>...</td>\n",
       "    </tr>\n",
       "    <tr>\n",
       "      <th>285</th>\n",
       "      <td>asterisk</td>\n",
       "      <td>rev_8</td>\n",
       "      <td>Ekstazi</td>\n",
       "      <td>22.572</td>\n",
       "      <td>8.570</td>\n",
       "      <td>22.192</td>\n",
       "      <td>46</td>\n",
       "      <td>2</td>\n",
       "      <td>4.347826</td>\n",
       "      <td>1.0</td>\n",
       "      <td>...</td>\n",
       "      <td>737</td>\n",
       "      <td>51170</td>\n",
       "      <td>58</td>\n",
       "      <td>4959</td>\n",
       "      <td>795</td>\n",
       "      <td>7.295597</td>\n",
       "      <td>252</td>\n",
       "      <td>44</td>\n",
       "      <td>0.825397</td>\n",
       "      <td>82.539682</td>\n",
       "    </tr>\n",
       "    <tr>\n",
       "      <th>288</th>\n",
       "      <td>imaging</td>\n",
       "      <td>rev_9</td>\n",
       "      <td>STARTS</td>\n",
       "      <td>9.209</td>\n",
       "      <td>7.050</td>\n",
       "      <td>8.443</td>\n",
       "      <td>113</td>\n",
       "      <td>59</td>\n",
       "      <td>52.212389</td>\n",
       "      <td>5.0</td>\n",
       "      <td>...</td>\n",
       "      <td>343</td>\n",
       "      <td>31294</td>\n",
       "      <td>148</td>\n",
       "      <td>7343</td>\n",
       "      <td>491</td>\n",
       "      <td>30.142566</td>\n",
       "      <td>574</td>\n",
       "      <td>469</td>\n",
       "      <td>0.182927</td>\n",
       "      <td>18.292683</td>\n",
       "    </tr>\n",
       "    <tr>\n",
       "      <th>289</th>\n",
       "      <td>imaging</td>\n",
       "      <td>rev_9</td>\n",
       "      <td>Ekstazi</td>\n",
       "      <td>9.301</td>\n",
       "      <td>8.266</td>\n",
       "      <td>8.412</td>\n",
       "      <td>113</td>\n",
       "      <td>48</td>\n",
       "      <td>42.477876</td>\n",
       "      <td>5.0</td>\n",
       "      <td>...</td>\n",
       "      <td>343</td>\n",
       "      <td>31294</td>\n",
       "      <td>148</td>\n",
       "      <td>7343</td>\n",
       "      <td>491</td>\n",
       "      <td>30.142566</td>\n",
       "      <td>574</td>\n",
       "      <td>362</td>\n",
       "      <td>0.369338</td>\n",
       "      <td>36.933798</td>\n",
       "    </tr>\n",
       "    <tr>\n",
       "      <th>290</th>\n",
       "      <td>validator</td>\n",
       "      <td>rev_9</td>\n",
       "      <td>STARTS</td>\n",
       "      <td>22.987</td>\n",
       "      <td>28.253</td>\n",
       "      <td>21.758</td>\n",
       "      <td>71</td>\n",
       "      <td>3</td>\n",
       "      <td>4.225352</td>\n",
       "      <td>1.0</td>\n",
       "      <td>...</td>\n",
       "      <td>64</td>\n",
       "      <td>7545</td>\n",
       "      <td>84</td>\n",
       "      <td>8911</td>\n",
       "      <td>148</td>\n",
       "      <td>56.756757</td>\n",
       "      <td>576</td>\n",
       "      <td>40</td>\n",
       "      <td>0.930556</td>\n",
       "      <td>93.055556</td>\n",
       "    </tr>\n",
       "    <tr>\n",
       "      <th>291</th>\n",
       "      <td>validator</td>\n",
       "      <td>rev_9</td>\n",
       "      <td>Ekstazi</td>\n",
       "      <td>23.306</td>\n",
       "      <td>25.078</td>\n",
       "      <td>22.229</td>\n",
       "      <td>71</td>\n",
       "      <td>2</td>\n",
       "      <td>2.816901</td>\n",
       "      <td>1.0</td>\n",
       "      <td>...</td>\n",
       "      <td>64</td>\n",
       "      <td>7545</td>\n",
       "      <td>84</td>\n",
       "      <td>8911</td>\n",
       "      <td>148</td>\n",
       "      <td>56.756757</td>\n",
       "      <td>576</td>\n",
       "      <td>41</td>\n",
       "      <td>0.928819</td>\n",
       "      <td>92.881944</td>\n",
       "    </tr>\n",
       "  </tbody>\n",
       "</table>\n",
       "<p>116 rows × 21 columns</p>\n",
       "</div>"
      ],
      "text/plain": [
       "       subject     rev     tool  time_full_suite  end-to-end  \\\n",
       "6     asterisk  rev_10   STARTS            8.637       8.365   \n",
       "7     asterisk  rev_10  Ekstazi            9.027       8.402   \n",
       "12    asterisk  rev_11   STARTS           22.600       7.894   \n",
       "13    asterisk  rev_11  Ekstazi           22.694       8.695   \n",
       "18   validator  rev_12   STARTS           23.441       7.654   \n",
       "..         ...     ...      ...              ...         ...   \n",
       "285   asterisk   rev_8  Ekstazi           22.572       8.570   \n",
       "288    imaging   rev_9   STARTS            9.209       7.050   \n",
       "289    imaging   rev_9  Ekstazi            9.301       8.266   \n",
       "290  validator   rev_9   STARTS           22.987      28.253   \n",
       "291  validator   rev_9  Ekstazi           23.306      25.078   \n",
       "\n",
       "     endtoend_reduction  total_tests  selected_test_classes  \\\n",
       "6                 7.668           46                      6   \n",
       "7                 8.096           46                      4   \n",
       "12               22.251           46                      2   \n",
       "13               22.311           46                      1   \n",
       "18               23.114           71                      1   \n",
       "..                  ...          ...                    ...   \n",
       "285              22.192           46                      2   \n",
       "288               8.443          113                     59   \n",
       "289               8.412          113                     48   \n",
       "290              21.758           71                      3   \n",
       "291              22.229           71                      2   \n",
       "\n",
       "     percent_classes_selected  changed_classes  ...   main_files   main_loc  \\\n",
       "6                   13.043478              6.0  ...          737      51195   \n",
       "7                    8.695652              6.0  ...          737      51195   \n",
       "12                   4.347826              1.0  ...          737      51210   \n",
       "13                   2.173913              1.0  ...          737      51210   \n",
       "18                   1.408451              1.0  ...           64       7549   \n",
       "..                        ...              ...  ...          ...        ...   \n",
       "285                  4.347826              1.0  ...          737      51170   \n",
       "288                 52.212389              5.0  ...          343      31294   \n",
       "289                 42.477876              5.0  ...          343      31294   \n",
       "290                  4.225352              1.0  ...           64       7545   \n",
       "291                  2.816901              1.0  ...           64       7545   \n",
       "\n",
       "      test_files   test_loc  total_classes  percent_of_test_classes  \\\n",
       "6             58       4962            795                 7.295597   \n",
       "7             58       4962            795                 7.295597   \n",
       "12            58       4962            795                 7.295597   \n",
       "13            58       4962            795                 7.295597   \n",
       "18            84       8911            148                56.756757   \n",
       "..           ...        ...            ...                      ...   \n",
       "285           58       4959            795                 7.295597   \n",
       "288          148       7343            491                30.142566   \n",
       "289          148       7343            491                30.142566   \n",
       "290           84       8911            148                56.756757   \n",
       "291           84       8911            148                56.756757   \n",
       "\n",
       "      all_test_cases  selected_test_cases testsuite_reduction  \\\n",
       "6                252                   35            0.861111   \n",
       "7                252                   12            0.952381   \n",
       "12               252                   23            0.908730   \n",
       "13               252                   22            0.912698   \n",
       "18               576                   12            0.979167   \n",
       "..               ...                  ...                 ...   \n",
       "285              252                   44            0.825397   \n",
       "288              574                  469            0.182927   \n",
       "289              574                  362            0.369338   \n",
       "290              576                   40            0.930556   \n",
       "291              576                   41            0.928819   \n",
       "\n",
       "     testsuite_reduction%  \n",
       "6               86.111111  \n",
       "7               95.238095  \n",
       "12              90.873016  \n",
       "13              91.269841  \n",
       "18              97.916667  \n",
       "..                    ...  \n",
       "285             82.539682  \n",
       "288             18.292683  \n",
       "289             36.933798  \n",
       "290             93.055556  \n",
       "291             92.881944  \n",
       "\n",
       "[116 rows x 21 columns]"
      ]
     },
     "execution_count": 3,
     "metadata": {},
     "output_type": "execute_result"
    }
   ],
   "source": [
    "df = pd.read_csv(csv_path)\n",
    "df['testsuite_reduction'] = pd.to_numeric(df['testsuite_reduction'], errors='coerce')\n",
    "df['testsuite_reduction%'] = df['testsuite_reduction'] * 100\n",
    "df['percent_mutatants_killed'] = pd.to_numeric(df['percent_mutatants_killed'], errors='coerce')\n",
    "df = df.drop(['Unnamed: 20', 'Unnamed: 25', 'rev1', ' All1', ' STARTS1', ' Ekstazi1', 'rev2', ' All2', ' STARTS2', ' Ekstazi2'], axis=1)\n",
    "df = df[df['changed_classes'] != 0]\n",
    "# df = df[df['changed_classes'] > 2]\n",
    "df = df[df['rev'] != 'rev_1']\n",
    "df"
   ]
  },
  {
   "cell_type": "code",
   "execution_count": 4,
   "id": "f6e409c9",
   "metadata": {},
   "outputs": [],
   "source": [
    "filtered_size_df = df.dropna(subset=['testsuite_reduction'])\n",
    "filtered_fault_df = df.dropna(subset=['percent_mutatants_killed'])"
   ]
  },
  {
   "cell_type": "code",
   "execution_count": 5,
   "id": "0b27ae9e",
   "metadata": {},
   "outputs": [],
   "source": [
    "# len(filtered_size_df[(filtered_size_df['subject'] =='imaging' & filtered_size_df['tool'] =='starts')])\n",
    "# filtered_size_df[(filtered_size_df['subject'] == 'imaging') \n",
    "#                      & (filtered_size_df['tool'] == 'STARTS')]['testsuite_reduction']\n",
    "# filtered_size_df[(filtered_size_df['subject'] == 'imaging') \n",
    "#                      & (filtered_size_df['tool'] == 'Ekstazi')]['testsuite_reduction']"
   ]
  },
  {
   "cell_type": "markdown",
   "id": "ac5c8edb",
   "metadata": {},
   "source": [
    "# End to end time reduction"
   ]
  },
  {
   "cell_type": "code",
   "execution_count": 6,
   "id": "71de7dc0",
   "metadata": {},
   "outputs": [
    {
     "name": "stderr",
     "output_type": "stream",
     "text": [
      "C:\\Users\\hanse\\AppData\\Local\\Temp\\ipykernel_12308\\1065905495.py:1: FutureWarning: \n",
      "\n",
      "Passing `palette` without assigning `hue` is deprecated and will be removed in v0.14.0. Assign the `x` variable to `hue` and set `legend=False` for the same effect.\n",
      "\n",
      "  sns.boxplot(x='tool', y='endtoend_reduction', data=df, palette='Set3')\n",
      "C:\\Users\\hanse\\AppData\\Local\\Temp\\ipykernel_12308\\1065905495.py:5: FutureWarning: \n",
      "\n",
      "Passing `palette` without assigning `hue` is deprecated and will be removed in v0.14.0. Assign the `x` variable to `hue` and set `legend=False` for the same effect.\n",
      "\n",
      "  sns.pointplot(x='tool', y='endtoend_reduction', data=df,\n"
     ]
    },
    {
     "data": {
      "image/png": "[encoded data removed]",
      "text/plain": [
       "<Figure size 432x288 with 1 Axes>"
      ]
     },
     "metadata": {
      "needs_background": "light"
     },
     "output_type": "display_data"
    },
    {
     "name": "stdout",
     "output_type": "stream",
     "text": [
      "STARTS: mean=17.252 std=6.980\n",
      "Ekstazi: mean=17.053 std=6.840\n"
     ]
    }
   ],
   "source": [
    "sns.boxplot(x='tool', y='endtoend_reduction', data=df, palette='Set3')\n",
    "plt.title('Box Plot of end to end time reduction by tool')\n",
    "plt.ylabel('End to end time reduction (%)')\n",
    "plt.xlabel('Tool')\n",
    "sns.pointplot(x='tool', y='endtoend_reduction', data=df, \n",
    "              dodge=False, linestyle='none', markers=\"x\", palette=\"dark\", errorbar=None)\n",
    "plt.savefig('figures/time_tools.png', dpi=300)\n",
    "plt.show()\n",
    "s_time_mean = df[df['tool']=='STARTS']['endtoend_reduction'].mean()\n",
    "e_time_mean = df[df['tool']=='Ekstazi']['endtoend_reduction'].mean()\n",
    "s_time_std = df[df['tool']=='STARTS']['endtoend_reduction'].std()\n",
    "e_time_std = df[df['tool']=='Ekstazi']['endtoend_reduction'].std()\n",
    "print(f'STARTS: mean={s_time_mean:.3f} std={s_time_std:.3f}')\n",
    "print(f'Ekstazi: mean={e_time_mean:.3f} std={e_time_std:.3f}')"
   ]
  },
  {
   "cell_type": "code",
   "execution_count": 7,
   "id": "20ed8534",
   "metadata": {},
   "outputs": [
    {
     "data": {
      "image/png": "[encoded data removed]",
      "text/plain": [
       "<Figure size 432x288 with 1 Axes>"
      ]
     },
     "metadata": {
      "needs_background": "light"
     },
     "output_type": "display_data"
    },
    {
     "name": "stdout",
     "output_type": "stream",
     "text": [
      "Asterisk: mean=16.411 std=7.015 num samples=44\n",
      "Imaging: mean=17.013 std=6.872 num samples=38\n",
      "Validator: mean=18.268 std=6.774 num samples=34\n"
     ]
    }
   ],
   "source": [
    "sns.boxplot(x='subject', y='endtoend_reduction', data=df)\n",
    "plt.title('Box Plot of end to end time reduction by subject')\n",
    "plt.ylabel('End to end time reduction')\n",
    "plt.xlabel('Tool')\n",
    "plt.show()\n",
    "a_time_mean = df[df['subject']=='asterisk']['endtoend_reduction'].mean()\n",
    "i_time_mean = df[df['subject']=='imaging']['endtoend_reduction'].mean()\n",
    "v_time_mean = df[df['subject']=='validator']['endtoend_reduction'].mean()\n",
    "a_time_std = df[df['subject']=='asterisk']['endtoend_reduction'].std()\n",
    "i_time_std = df[df['subject']=='imaging']['endtoend_reduction'].std()\n",
    "v_time_std = df[df['subject']=='validator']['endtoend_reduction'].std()\n",
    "a_len = len(df[df['subject']=='asterisk'])\n",
    "i_len = len(df[df['subject']=='imaging'])\n",
    "v_len = len(df[df['subject']=='validator'])\n",
    "print(f'Asterisk: mean={a_time_mean:.3f} std={a_time_std:.3f} num samples={a_len}')\n",
    "print(f'Imaging: mean={i_time_mean:.3f} std={i_time_std:.3f} num samples={i_len}')\n",
    "print(f'Validator: mean={v_time_mean:.3f} std={v_time_std:.3f} num samples={v_len}')"
   ]
  },
  {
   "cell_type": "code",
   "execution_count": 8,
   "id": "b0cd9000",
   "metadata": {},
   "outputs": [
    {
     "name": "stderr",
     "output_type": "stream",
     "text": [
      "C:\\Users\\hanse\\AppData\\Local\\Temp\\ipykernel_12308\\3875340002.py:4: UserWarning: \n",
      "\n",
      "The `join` parameter is deprecated and will be removed in v0.15.0. You can remove the line between points with `linestyle='none'`.\n",
      "\n",
      "  sns.pointplot(x='subject', y='endtoend_reduction', hue='tool', data=filtered_fault_df,\n",
      "C:\\Users\\hanse\\AppData\\Local\\Temp\\ipykernel_12308\\3875340002.py:10: MatplotlibDeprecationWarning: Support for passing numbers through unit converters is deprecated since 3.5 and support will be removed two minor releases later; use Axis.convert_units instead.\n",
      "  plt.savefig('figures/time_tools_subjects.png', dpi=300)\n",
      "C:\\Users\\hanse\\AppData\\Local\\Temp\\ipykernel_12308\\3875340002.py:10: MatplotlibDeprecationWarning: Support for passing numbers through unit converters is deprecated since 3.5 and support will be removed two minor releases later; use Axis.convert_units instead.\n",
      "  plt.savefig('figures/time_tools_subjects.png', dpi=300)\n"
     ]
    },
    {
     "data": {
      "image/png": "[encoded data removed]",
      "text/plain": [
       "<Figure size 432x288 with 1 Axes>"
      ]
     },
     "metadata": {
      "needs_background": "light"
     },
     "output_type": "display_data"
    }
   ],
   "source": [
    "sns.boxplot(x='subject', y='endtoend_reduction', hue='tool', data=df, palette='Set3')\n",
    "plt.ylabel('End to end time reduction (%)')\n",
    "plt.title('Box plot of end to end time reduction by subject and tool')\n",
    "sns.pointplot(x='subject', y='endtoend_reduction', hue='tool', data=filtered_fault_df, \n",
    "              dodge=.4, join=False, markers=\"x\", palette=\"dark\", errorbar=None)\n",
    "handles, labels = plt.gca().get_legend_handles_labels()\n",
    "new_handles = handles[:2]  # Adjust the index depending on which items you want to keep\n",
    "new_labels = labels[:2]\n",
    "plt.legend(new_handles, new_labels)\n",
    "plt.savefig('figures/time_tools_subjects.png', dpi=300)\n",
    "plt.show()"
   ]
  },
  {
   "cell_type": "code",
   "execution_count": 9,
   "id": "9421ae1a",
   "metadata": {},
   "outputs": [
    {
     "name": "stdout",
     "output_type": "stream",
     "text": [
      "Asterisk+STARTS: mean=16.441 std=7.025\n",
      "Asterisk+Ekstazi: mean=16.381 std=7.171\n",
      "Imaging+Ekstazi: mean=17.056 std=6.987\n",
      "Imaging+STARTS: mean=16.970 std=6.945\n",
      "Validator+STARTS: mean=18.619 std=7.181\n",
      "Validator+Ekstazi: mean=17.918 std=6.544\n"
     ]
    }
   ],
   "source": [
    "a_s_time_mean = df[(df['subject']=='asterisk')&(df['tool']=='STARTS')]['endtoend_reduction'].mean()\n",
    "i_s_time_mean = df[(df['subject']=='imaging')&(df['tool']=='STARTS')]['endtoend_reduction'].mean()\n",
    "v_s_time_mean = df[(df['subject']=='validator')&(df['tool']=='STARTS')]['endtoend_reduction'].mean()\n",
    "a_s_time_std = df[(df['subject']=='asterisk')&(df['tool']=='STARTS')]['endtoend_reduction'].std()\n",
    "i_s_time_std = df[(df['subject']=='imaging')&(df['tool']=='STARTS')]['endtoend_reduction'].std()\n",
    "v_s_time_std = df[(df['subject']=='validator')&(df['tool']=='STARTS')]['endtoend_reduction'].std()\n",
    "a_e_time_mean = df[(df['subject']=='asterisk')&(df['tool']=='Ekstazi')]['endtoend_reduction'].mean()\n",
    "i_e_time_mean = df[(df['subject']=='imaging')&(df['tool']=='Ekstazi')]['endtoend_reduction'].mean()\n",
    "v_e_time_mean = df[(df['subject']=='validator')&(df['tool']=='Ekstazi')]['endtoend_reduction'].mean()\n",
    "a_e_time_std = df[(df['subject']=='asterisk')&(df['tool']=='Ekstazi')]['endtoend_reduction'].std()\n",
    "i_e_time_std = df[(df['subject']=='imaging')&(df['tool']=='Ekstazi')]['endtoend_reduction'].std()\n",
    "v_e_time_std = df[(df['subject']=='validator')&(df['tool']=='Ekstazi')]['endtoend_reduction'].std()\n",
    "print(f'Asterisk+STARTS: mean={a_s_time_mean:.3f} std={a_s_time_std:.3f}')\n",
    "print(f'Asterisk+Ekstazi: mean={a_e_time_mean:.3f} std={a_e_time_std:.3f}')\n",
    "print(f'Imaging+Ekstazi: mean={i_e_time_mean:.3f} std={i_e_time_std:.3f}')\n",
    "print(f'Imaging+STARTS: mean={i_s_time_mean:.3f} std={i_s_time_std:.3f}')\n",
    "print(f'Validator+STARTS: mean={v_s_time_mean:.3f} std={v_s_time_std:.3f}')\n",
    "print(f'Validator+Ekstazi: mean={v_e_time_mean:.3f} std={v_e_time_std:.3f}')"
   ]
  },
  {
   "cell_type": "markdown",
   "id": "e3abde17",
   "metadata": {},
   "source": [
    "# Test suite size reduction"
   ]
  },
  {
   "cell_type": "code",
   "execution_count": 10,
   "id": "2c76cddf",
   "metadata": {},
   "outputs": [
    {
     "name": "stderr",
     "output_type": "stream",
     "text": [
      "C:\\Users\\hanse\\AppData\\Local\\Temp\\ipykernel_12308\\169185917.py:1: FutureWarning: \n",
      "\n",
      "Passing `palette` without assigning `hue` is deprecated and will be removed in v0.14.0. Assign the `x` variable to `hue` and set `legend=False` for the same effect.\n",
      "\n",
      "  sns.boxplot(x='tool', y='testsuite_reduction%', data=filtered_size_df, palette='Set3')\n",
      "C:\\Users\\hanse\\AppData\\Local\\Temp\\ipykernel_12308\\169185917.py:5: FutureWarning: \n",
      "\n",
      "Passing `palette` without assigning `hue` is deprecated and will be removed in v0.14.0. Assign the `x` variable to `hue` and set `legend=False` for the same effect.\n",
      "\n",
      "  sns.pointplot(x='tool', y='testsuite_reduction%', data=filtered_size_df,\n"
     ]
    },
    {
     "data": {
      "image/png": "[encoded data removed]",
      "text/plain": [
       "<Figure size 432x288 with 1 Axes>"
      ]
     },
     "metadata": {
      "needs_background": "light"
     },
     "output_type": "display_data"
    },
    {
     "name": "stdout",
     "output_type": "stream",
     "text": [
      "STARTS: mean=73.005 std=34.783\n",
      "Ekstazi: mean=79.547 std=25.825\n",
      "number of samples: 109\n"
     ]
    }
   ],
   "source": [
    "sns.boxplot(x='tool', y='testsuite_reduction%', data=filtered_size_df, palette='Set3')\n",
    "plt.title('Box Plot of test suite size reduction by tool')\n",
    "plt.ylabel('Test suite size reduction (%)')\n",
    "plt.xlabel('Tool')\n",
    "sns.pointplot(x='tool', y='testsuite_reduction%', data=filtered_size_df, \n",
    "              dodge=False, linestyle='none', markers=\"x\", palette=\"dark\", errorbar=None)\n",
    "plt.savefig('figures/size_tools.png', dpi=300)\n",
    "plt.show()\n",
    "s_size_mean = filtered_size_df[filtered_size_df['tool']=='STARTS']['testsuite_reduction%'].mean()\n",
    "e_size_mean = filtered_size_df[filtered_size_df['tool']=='Ekstazi']['testsuite_reduction%'].mean()\n",
    "s_size_std = filtered_size_df[filtered_size_df['tool']=='STARTS']['testsuite_reduction%'].std()\n",
    "e_size_std = filtered_size_df[filtered_size_df['tool']=='Ekstazi']['testsuite_reduction%'].std()\n",
    "print(f'STARTS: mean={s_size_mean:.3f} std={s_size_std:.3f}')\n",
    "print(f'Ekstazi: mean={e_size_mean:.3f} std={e_size_std:.3f}')\n",
    "print(f'number of samples: {len(filtered_size_df)}')"
   ]
  },
  {
   "cell_type": "code",
   "execution_count": 11,
   "id": "f53007a1",
   "metadata": {
    "scrolled": true
   },
   "outputs": [
    {
     "data": {
      "image/png": "[encoded data removed]",
      "text/plain": [
       "<Figure size 432x288 with 1 Axes>"
      ]
     },
     "metadata": {
      "needs_background": "light"
     },
     "output_type": "display_data"
    },
    {
     "name": "stdout",
     "output_type": "stream",
     "text": [
      "Asterisk: mean=0.891 std=0.083 num samples= 37\n",
      "Imaging: mean=0.472 std=0.367 num samples= 38\n",
      "Validator: mean=0.942 std=0.078 num samples= 34\n"
     ]
    }
   ],
   "source": [
    "sns.boxplot(x='subject', y='testsuite_reduction', data=filtered_size_df)\n",
    "plt.title('Box Plot of test suite size reduction by subject')\n",
    "plt.ylabel('Test suite size reduction')\n",
    "plt.xlabel('Tool')\n",
    "plt.show()\n",
    "a_size_mean = filtered_size_df[filtered_size_df['subject']=='asterisk']['testsuite_reduction'].mean()\n",
    "i_size_mean = filtered_size_df[filtered_size_df['subject']=='imaging']['testsuite_reduction'].mean()\n",
    "v_size_mean = filtered_size_df[filtered_size_df['subject']=='validator']['testsuite_reduction'].mean()\n",
    "a_size_std = filtered_size_df[filtered_size_df['subject']=='asterisk']['testsuite_reduction'].std()\n",
    "i_size_std = filtered_size_df[filtered_size_df['subject']=='imaging']['testsuite_reduction'].std()\n",
    "v_size_std = filtered_size_df[filtered_size_df['subject']=='validator']['testsuite_reduction'].std()\n",
    "a_size_len = len(filtered_size_df[filtered_size_df['subject']=='asterisk'])\n",
    "i_size_len = len(filtered_size_df[filtered_size_df['subject']=='imaging'])\n",
    "v_size_len = len(filtered_size_df[filtered_size_df['subject']=='validator'])\n",
    "print(f'Asterisk: mean={a_size_mean:.3f} std={a_size_std:.3f} num samples= {a_size_len}')\n",
    "print(f'Imaging: mean={i_size_mean:.3f} std={i_size_std:.3f} num samples= {i_size_len}')\n",
    "print(f'Validator: mean={v_size_mean:.3f} std={v_size_std:.3f} num samples= {v_size_len}')"
   ]
  },
  {
   "cell_type": "code",
   "execution_count": 12,
   "id": "b7500fbd",
   "metadata": {},
   "outputs": [
    {
     "data": {
      "text/plain": [
       "0.99436587925"
      ]
     },
     "execution_count": 12,
     "metadata": {},
     "output_type": "execute_result"
    }
   ],
   "source": [
    "temp=filtered_size_df[(filtered_size_df['subject']=='imaging')&(filtered_size_df['tool']=='STARTS')\n",
    "                     &(filtered_size_df['testsuite_reduction'] < .2)\n",
    "                     &(filtered_size_df['testsuite_reduction'] > 0)]\n",
    "temp['testsuite_reduction'].mean()\n",
    "filtered_size_df[(filtered_size_df['subject']=='imaging')&(filtered_size_df['tool']=='STARTS')\n",
    "                &(filtered_size_df['testsuite_reduction'] > .2)]['testsuite_reduction'].mean()"
   ]
  },
  {
   "cell_type": "code",
   "execution_count": 13,
   "id": "35cdf196",
   "metadata": {},
   "outputs": [],
   "source": [
    "# filtered_size_df[(filtered_size_df['subject']=='imaging')&(filtered_size_df['tool']=='Ekstazi')]"
   ]
  },
  {
   "cell_type": "code",
   "execution_count": 14,
   "id": "793e5b4d",
   "metadata": {
    "scrolled": true
   },
   "outputs": [
    {
     "name": "stderr",
     "output_type": "stream",
     "text": [
      "C:\\Users\\hanse\\AppData\\Local\\Temp\\ipykernel_12308\\2775646969.py:10: MatplotlibDeprecationWarning: Support for passing numbers through unit converters is deprecated since 3.5 and support will be removed two minor releases later; use Axis.convert_units instead.\n",
      "  plt.savefig('figures/size_tools_subjects.png', dpi=300)\n",
      "C:\\Users\\hanse\\AppData\\Local\\Temp\\ipykernel_12308\\2775646969.py:10: MatplotlibDeprecationWarning: Support for passing numbers through unit converters is deprecated since 3.5 and support will be removed two minor releases later; use Axis.convert_units instead.\n",
      "  plt.savefig('figures/size_tools_subjects.png', dpi=300)\n"
     ]
    },
    {
     "data": {
      "image/png": "[encoded data removed]",
      "text/plain": [
       "<Figure size 432x288 with 1 Axes>"
      ]
     },
     "metadata": {
      "needs_background": "light"
     },
     "output_type": "display_data"
    }
   ],
   "source": [
    "sns.boxplot(x='subject', y='testsuite_reduction%', hue='tool', data=filtered_size_df, palette=\"Set3\")\n",
    "plt.ylabel('Test suite size reduction (%)')\n",
    "plt.title('Box Plot of test suite size reduction by subject and tool')\n",
    "sns.pointplot(x='subject', y='testsuite_reduction%', hue='tool', data=filtered_fault_df, \n",
    "              dodge=.4, linestyle='none', markers=\"x\", palette=\"dark\", errorbar=None)\n",
    "handles, labels = plt.gca().get_legend_handles_labels()\n",
    "new_handles = handles[:2]  # Adjust the index depending on which items you want to keep\n",
    "new_labels = labels[:2]\n",
    "plt.legend(new_handles, new_labels)\n",
    "plt.savefig('figures/size_tools_subjects.png', dpi=300)\n",
    "plt.show()"
   ]
  },
  {
   "cell_type": "code",
   "execution_count": 15,
   "id": "11bc6df0",
   "metadata": {},
   "outputs": [
    {
     "name": "stdout",
     "output_type": "stream",
     "text": [
      "Asterisk+Ekstazi: mean=86.667 std=7.713\n",
      "Asterisk+STARTS: mean=90.729 std=8.531\n",
      "Validator+Ekstazi: mean=94.169 std=7.871\n",
      "Validator+STARTS: mean=94.158 std=7.951\n",
      "Imaging+Ekstazi: mean=60.845 std=33.733\n",
      "Imaging+STARTS: mean=33.556 std=35.226\n"
     ]
    }
   ],
   "source": [
    "a_s_size_mean = filtered_size_df[(filtered_size_df['subject']=='asterisk')&(filtered_size_df['tool']=='STARTS')]['testsuite_reduction%'].mean()\n",
    "i_s_size_mean = filtered_size_df[(filtered_size_df['subject']=='imaging')&(filtered_size_df['tool']=='STARTS')]['testsuite_reduction%'].mean()\n",
    "v_s_size_mean = filtered_size_df[(filtered_size_df['subject']=='validator')&(filtered_size_df['tool']=='STARTS')]['testsuite_reduction%'].mean()\n",
    "a_s_size_std = filtered_size_df[(filtered_size_df['subject']=='asterisk')&(filtered_size_df['tool']=='STARTS')]['testsuite_reduction%'].std()\n",
    "i_s_size_std = filtered_size_df[(filtered_size_df['subject']=='imaging')&(filtered_size_df['tool']=='STARTS')]['testsuite_reduction%'].std()\n",
    "v_s_size_std = filtered_size_df[(filtered_size_df['subject']=='validator')&(filtered_size_df['tool']=='STARTS')]['testsuite_reduction%'].std()\n",
    "a_e_size_mean = filtered_size_df[(filtered_size_df['subject']=='asterisk')&(filtered_size_df['tool']=='Ekstazi')]['testsuite_reduction%'].mean()\n",
    "i_e_size_mean = filtered_size_df[(filtered_size_df['subject']=='imaging')&(filtered_size_df['tool']=='Ekstazi')]['testsuite_reduction%'].mean()\n",
    "v_e_size_mean = filtered_size_df[(filtered_size_df['subject']=='validator')&(filtered_size_df['tool']=='Ekstazi')]['testsuite_reduction%'].mean()\n",
    "a_e_size_std = filtered_size_df[(filtered_size_df['subject']=='asterisk')&(filtered_size_df['tool']=='Ekstazi')]['testsuite_reduction%'].std()\n",
    "i_e_size_std = filtered_size_df[(filtered_size_df['subject']=='imaging')&(filtered_size_df['tool']=='Ekstazi')]['testsuite_reduction%'].std()\n",
    "v_e_size_std = filtered_size_df[(filtered_size_df['subject']=='validator')&(filtered_size_df['tool']=='Ekstazi')]['testsuite_reduction%'].std()\n",
    "print(f'Asterisk+Ekstazi: mean={a_e_size_mean:.3f} std={a_e_size_std:.3f}')\n",
    "print(f'Asterisk+STARTS: mean={a_s_size_mean:.3f} std={a_s_size_std:.3f}')\n",
    "\n",
    "print(f'Validator+Ekstazi: mean={v_e_size_mean:.3f} std={v_e_size_std:.3f}')\n",
    "print(f'Validator+STARTS: mean={v_s_size_mean:.3f} std={v_s_size_std:.3f}')\n",
    "\n",
    "print(f'Imaging+Ekstazi: mean={i_e_size_mean:.3f} std={i_e_size_std:.3f}')\n",
    "print(f'Imaging+STARTS: mean={i_s_size_mean:.3f} std={i_s_size_std:.3f}')"
   ]
  },
  {
   "cell_type": "markdown",
   "id": "71ea52f5",
   "metadata": {},
   "source": [
    "# Fault detection"
   ]
  },
  {
   "cell_type": "code",
   "execution_count": 16,
   "id": "f5b217e6",
   "metadata": {
    "scrolled": true
   },
   "outputs": [
    {
     "data": {
      "image/png": "[encoded data removed]",
      "text/plain": [
       "<Figure size 432x288 with 1 Axes>"
      ]
     },
     "metadata": {
      "needs_background": "light"
     },
     "output_type": "display_data"
    },
    {
     "name": "stdout",
     "output_type": "stream",
     "text": [
      "STARTS: mean=35.595 std=35.690\n",
      "Ekstazi: mean=35.676 std=35.731\n",
      "total sameples: 74\n"
     ]
    }
   ],
   "source": [
    "sns.boxplot(x='tool', y='percent_mutatants_killed', data=filtered_fault_df)\n",
    "plt.title('Box Plot of fault detection by tool')\n",
    "plt.ylabel('Mutants Killed')\n",
    "plt.xlabel('Tool')\n",
    "plt.show()\n",
    "s_fault_mean = filtered_fault_df[filtered_fault_df['tool']=='STARTS']['percent_mutatants_killed'].mean()\n",
    "e_fault_mean = filtered_fault_df[filtered_fault_df['tool']=='Ekstazi']['percent_mutatants_killed'].mean()\n",
    "s_fault_std = filtered_fault_df[filtered_fault_df['tool']=='STARTS']['percent_mutatants_killed'].std()\n",
    "e_fault_std = filtered_fault_df[filtered_fault_df['tool']=='Ekstazi']['percent_mutatants_killed'].std()\n",
    "print(f'STARTS: mean={s_fault_mean:.3f} std={s_fault_std:.3f}')\n",
    "print(f'Ekstazi: mean={e_fault_mean:.3f} std={e_fault_std:.3f}')\n",
    "print(f'total sameples: {len(filtered_fault_df)}')"
   ]
  },
  {
   "cell_type": "code",
   "execution_count": 17,
   "id": "998128b8",
   "metadata": {},
   "outputs": [
    {
     "data": {
      "image/png": "[encoded data removed]",
      "text/plain": [
       "<Figure size 432x288 with 1 Axes>"
      ]
     },
     "metadata": {
      "needs_background": "light"
     },
     "output_type": "display_data"
    },
    {
     "name": "stdout",
     "output_type": "stream",
     "text": [
      "Asterisk: mean=8.667 std=17.274 samples=42\n",
      "Imaging: mean=63.389 std=18.815 samples=18\n",
      "Validator: mean=80.857 std=6.335 samples=14\n"
     ]
    }
   ],
   "source": [
    "sns.boxplot(x='subject', y='percent_mutatants_killed', data=filtered_fault_df)\n",
    "plt.title('Box Plot of fault detection by subject')\n",
    "plt.ylabel('Mutants Killed')\n",
    "plt.xlabel('Tool')\n",
    "plt.show()\n",
    "a_fault_mean = filtered_fault_df[filtered_fault_df['subject']=='asterisk']['percent_mutatants_killed'].mean()\n",
    "i_fault_mean = filtered_fault_df[filtered_fault_df['subject']=='imaging']['percent_mutatants_killed'].mean()\n",
    "v_fault_mean = filtered_fault_df[filtered_fault_df['subject']=='validator']['percent_mutatants_killed'].mean()\n",
    "a_fault_std = filtered_fault_df[filtered_fault_df['subject']=='asterisk']['percent_mutatants_killed'].std()\n",
    "i_fault_std = filtered_fault_df[filtered_fault_df['subject']=='imaging']['percent_mutatants_killed'].std()\n",
    "v_fault_std = filtered_fault_df[filtered_fault_df['subject']=='validator']['percent_mutatants_killed'].std()\n",
    "a_len = len(filtered_fault_df[filtered_fault_df['subject']=='asterisk'])\n",
    "i_len = len(filtered_fault_df[filtered_fault_df['subject']=='imaging'])\n",
    "v_len = len(filtered_fault_df[filtered_fault_df['subject']=='validator'])\n",
    "print(f'Asterisk: mean={a_fault_mean:.3f} std={a_fault_std:.3f} samples={a_len}')\n",
    "print(f'Imaging: mean={i_fault_mean:.3f} std={i_fault_std:.3f} samples={i_len}')\n",
    "print(f'Validator: mean={v_fault_mean:.3f} std={v_fault_std:.3f} samples={v_len}')"
   ]
  },
  {
   "cell_type": "code",
   "execution_count": 18,
   "id": "61ce02db",
   "metadata": {},
   "outputs": [
    {
     "name": "stderr",
     "output_type": "stream",
     "text": [
      "C:\\Users\\hanse\\AppData\\Local\\Temp\\ipykernel_12308\\3487735320.py:5: UserWarning: \n",
      "\n",
      "The `join` parameter is deprecated and will be removed in v0.15.0. You can remove the line between points with `linestyle='none'`.\n",
      "\n",
      "  sns.pointplot(x='subject', y='percent_mutatants_killed', hue='tool', data=filtered_fault_df,\n"
     ]
    },
    {
     "data": {
      "image/png": "[encoded data removed]",
      "text/plain": [
       "<Figure size 432x288 with 1 Axes>"
      ]
     },
     "metadata": {
      "needs_background": "light"
     },
     "output_type": "display_data"
    }
   ],
   "source": [
    "sns.boxplot(x='subject', y='percent_mutatants_killed', hue='tool', data=filtered_fault_df, palette=\"Set3\")\n",
    "plt.title('Box Plot of fault detection by subject and tool')\n",
    "plt.ylabel('Mutants Killed')\n",
    "plt.xlabel('Tool')\n",
    "sns.pointplot(x='subject', y='percent_mutatants_killed', hue='tool', data=filtered_fault_df, \n",
    "              dodge=.4, join=False, markers=\"x\", palette=\"dark\", errorbar=None)\n",
    "plt.show()"
   ]
  },
  {
   "cell_type": "code",
   "execution_count": 19,
   "id": "be2eb458",
   "metadata": {},
   "outputs": [
    {
     "name": "stdout",
     "output_type": "stream",
     "text": [
      "Asterisk+STARTS: mean=8.667 std=17.488\n",
      "Imaging+STARTS: mean=63.222 std=19.492\n",
      "Validator+STARTS: mean=80.857 std=6.594\n",
      "Asterisk+Ekstazi: mean=8.667 std=17.488\n",
      "Imaging+Ekstazi: mean=63.556 std=19.295\n",
      "Validator+Ekstazi: mean=80.857 std=6.594\n"
     ]
    }
   ],
   "source": [
    "a_s_fault_mean = filtered_fault_df[(filtered_fault_df['subject']=='asterisk')&(filtered_fault_df['tool']=='STARTS')]['percent_mutatants_killed'].mean()\n",
    "i_s_fault_mean = filtered_fault_df[(filtered_fault_df['subject']=='imaging')&(filtered_fault_df['tool']=='STARTS')]['percent_mutatants_killed'].mean()\n",
    "v_s_fault_mean = filtered_fault_df[(filtered_fault_df['subject']=='validator')&(filtered_fault_df['tool']=='STARTS')]['percent_mutatants_killed'].mean()\n",
    "a_s_fault_std = filtered_fault_df[(filtered_fault_df['subject']=='asterisk')&(filtered_fault_df['tool']=='STARTS')]['percent_mutatants_killed'].std()\n",
    "i_s_fault_std = filtered_fault_df[(filtered_fault_df['subject']=='imaging')&(filtered_fault_df['tool']=='STARTS')]['percent_mutatants_killed'].std()\n",
    "v_s_fault_std = filtered_fault_df[(filtered_fault_df['subject']=='validator')&(filtered_fault_df['tool']=='STARTS')]['percent_mutatants_killed'].std()\n",
    "a_e_fault_mean = filtered_fault_df[(filtered_fault_df['subject']=='asterisk')&(filtered_fault_df['tool']=='Ekstazi')]['percent_mutatants_killed'].mean()\n",
    "i_e_fault_mean = filtered_fault_df[(filtered_fault_df['subject']=='imaging')&(filtered_fault_df['tool']=='Ekstazi')]['percent_mutatants_killed'].mean()\n",
    "v_e_fault_mean = filtered_fault_df[(filtered_fault_df['subject']=='validator')&(filtered_fault_df['tool']=='Ekstazi')]['percent_mutatants_killed'].mean()\n",
    "a_e_fault_std = filtered_fault_df[(filtered_fault_df['subject']=='asterisk')&(filtered_fault_df['tool']=='Ekstazi')]['percent_mutatants_killed'].std()\n",
    "i_e_fault_std = filtered_fault_df[(filtered_fault_df['subject']=='imaging')&(filtered_fault_df['tool']=='Ekstazi')]['percent_mutatants_killed'].std()\n",
    "v_e_fault_std = filtered_fault_df[(filtered_fault_df['subject']=='validator')&(filtered_fault_df['tool']=='Ekstazi')]['percent_mutatants_killed'].std()\n",
    "print(f'Asterisk+STARTS: mean={a_s_fault_mean:.3f} std={a_s_fault_std:.3f}')\n",
    "print(f'Imaging+STARTS: mean={i_s_fault_mean:.3f} std={i_s_fault_std:.3f}')\n",
    "print(f'Validator+STARTS: mean={v_s_fault_mean:.3f} std={v_s_fault_std:.3f}')\n",
    "print(f'Asterisk+Ekstazi: mean={a_e_fault_mean:.3f} std={a_e_fault_std:.3f}')\n",
    "print(f'Imaging+Ekstazi: mean={i_e_fault_mean:.3f} std={i_e_fault_std:.3f}')\n",
    "print(f'Validator+Ekstazi: mean={v_e_fault_mean:.3f} std={v_e_fault_std:.3f}')"
   ]
  },
  {
   "cell_type": "markdown",
   "id": "3e3eba69",
   "metadata": {},
   "source": [
    "# Stats"
   ]
  },
  {
   "cell_type": "markdown",
   "id": "127b9dec",
   "metadata": {},
   "source": [
    "## end to end time"
   ]
  },
  {
   "cell_type": "code",
   "execution_count": 20,
   "id": "3cd6b5c9",
   "metadata": {},
   "outputs": [
    {
     "name": "stdout",
     "output_type": "stream",
     "text": [
      "T-statistic: 0.15557396119932743\n",
      "P-value: 0.8766439904189145\n",
      "no significal significance\n",
      "no significal significance\n"
     ]
    }
   ],
   "source": [
    "time_s_data = df[df['tool']=='STARTS']['endtoend_reduction']\n",
    "time_e_data = df[df['tool']=='Ekstazi']['endtoend_reduction']\n",
    "t_statistic, p_value = ttest_ind(time_s_data, time_e_data)\n",
    "print(f'T-statistic: {t_statistic}')\n",
    "print(f'P-value: {p_value}')\n",
    "alpha = 0.05\n",
    "if p_value < alpha:\n",
    "    print('statistically significant')\n",
    "else:\n",
    "    print('no significal significance')\n",
    "    \n",
    "t_statistic, p_value = mannwhitneyu(time_s_data, time_e_data, method=\"exact\")\n",
    "if p_value < alpha:\n",
    "    print('statistically significant')\n",
    "else:\n",
    "    print('no significal significance')"
   ]
  },
  {
   "cell_type": "code",
   "execution_count": 21,
   "id": "76cc739a",
   "metadata": {},
   "outputs": [
    {
     "data": {
      "image/png": "[encoded data removed]",
      "text/plain": [
       "<Figure size 432x288 with 1 Axes>"
      ]
     },
     "metadata": {
      "needs_background": "light"
     },
     "output_type": "display_data"
    },
    {
     "data": {
      "image/png": "[encoded data removed]",
      "text/plain": [
       "<Figure size 432x288 with 1 Axes>"
      ]
     },
     "metadata": {
      "needs_background": "light"
     },
     "output_type": "display_data"
    }
   ],
   "source": [
    "import scipy.stats as stats\n",
    "stats.probplot(time_s_data, dist=\"norm\", plot=plt)\n",
    "plt.show()\n",
    "stats.probplot(time_e_data, dist=\"norm\", plot=plt)\n",
    "plt.show()"
   ]
  },
  {
   "cell_type": "code",
   "execution_count": 22,
   "id": "94e15e88",
   "metadata": {},
   "outputs": [
    {
     "name": "stdout",
     "output_type": "stream",
     "text": [
      "t-test\n",
      "T-statistic: 0.027757804517846672\n",
      "P-value: 0.9779867970571674\n",
      "no significal significance\n",
      "T-statistic: 0.0\n",
      "P-value: 1.0\n",
      "no significal significance\n",
      "T-statistic: 0.2973497410483911\n",
      "P-value: 0.7681213294214685\n",
      "no significal significance\n",
      "mann-whitney\n",
      "T-statistic: 241.0\n",
      "P-value: 0.9907327420600375\n",
      "no significal significance\n",
      "T-statistic: 180.5\n",
      "P-value: 1.0\n",
      "no significal significance\n",
      "T-statistic: 161.0\n",
      "P-value: 0.5861480768593427\n",
      "no significal significance\n"
     ]
    }
   ],
   "source": [
    "a_s_time = df[(df['subject']=='asterisk')&(df['tool']=='STARTS')]['endtoend_reduction']\n",
    "i_s_time = df[(df['subject']=='imaging')&(df['tool']=='STARTS')]['endtoend_reduction']\n",
    "v_s_time = df[(df['subject']=='validator')&(df['tool']=='STARTS')]['endtoend_reduction']\n",
    "a_e_time = df[(df['subject']=='asterisk')&(df['tool']=='Ekstazi')]['endtoend_reduction']\n",
    "i_e_time = df[(df['subject']=='imaging')&(df['tool']=='Ekstazi')]['endtoend_reduction']\n",
    "v_e_time = df[(df['subject']=='validator')&(df['tool']=='Ekstazi')]['endtoend_reduction']\n",
    "print('t-test')\n",
    "t_statistic, p_value = ttest_ind(a_s_time, a_e_time)\n",
    "print(f'T-statistic: {t_statistic}')\n",
    "print(f'P-value: {p_value}')\n",
    "alpha = 0.05\n",
    "if p_value < alpha:\n",
    "    print('statistically significant')\n",
    "else:\n",
    "    print('no significal significance')\n",
    "    \n",
    "t_statistic, p_value = ttest_ind(i_s_time, i_s_time)\n",
    "print(f'T-statistic: {t_statistic}')\n",
    "print(f'P-value: {p_value}')\n",
    "alpha = 0.05\n",
    "if p_value < alpha:\n",
    "    print('statistically significant')\n",
    "else:\n",
    "    print('no significal significance')\n",
    "    \n",
    "t_statistic, p_value = ttest_ind(v_s_time, v_e_time)\n",
    "print(f'T-statistic: {t_statistic}')\n",
    "print(f'P-value: {p_value}')\n",
    "alpha = 0.05\n",
    "if p_value < alpha:\n",
    "    print('statistically significant')\n",
    "else:\n",
    "    print('no significal significance')\n",
    "    \n",
    "print('mann-whitney')\n",
    "t_statistic, p_value = mannwhitneyu(a_s_time, a_e_time, method=\"exact\")\n",
    "print(f'T-statistic: {t_statistic}')\n",
    "print(f'P-value: {p_value}')\n",
    "alpha = 0.05\n",
    "if p_value < alpha:\n",
    "    print('statistically significant')\n",
    "else:\n",
    "    print('no significal significance')\n",
    "    \n",
    "t_statistic, p_value = mannwhitneyu(i_s_time, i_s_time, method=\"exact\")\n",
    "print(f'T-statistic: {t_statistic}')\n",
    "print(f'P-value: {p_value}')\n",
    "alpha = 0.05\n",
    "if p_value < alpha:\n",
    "    print('statistically significant')\n",
    "else:\n",
    "    print('no significal significance')\n",
    "    \n",
    "t_statistic, p_value = mannwhitneyu(v_s_time, v_e_time, method=\"exact\")\n",
    "print(f'T-statistic: {t_statistic}')\n",
    "print(f'P-value: {p_value}')\n",
    "alpha = 0.05\n",
    "if p_value < alpha:\n",
    "    print('statistically significant')\n",
    "else:\n",
    "    print('no significal significance')"
   ]
  },
  {
   "cell_type": "markdown",
   "id": "c523519f",
   "metadata": {},
   "source": [
    "## size reduction"
   ]
  },
  {
   "cell_type": "code",
   "execution_count": 23,
   "id": "faa82cab",
   "metadata": {},
   "outputs": [
    {
     "name": "stdout",
     "output_type": "stream",
     "text": [
      "T-statistic: -1.1021870838982237\n",
      "P-value: 0.27285333349667046\n",
      "no significal significance\n",
      "T-statistic: 1441.0\n",
      "P-value: 0.8205796127541072\n",
      "no significal significance\n"
     ]
    }
   ],
   "source": [
    "s_size = filtered_size_df[filtered_size_df['tool']=='STARTS']['testsuite_reduction']\n",
    "e_size = filtered_size_df[filtered_size_df['tool']=='Ekstazi']['testsuite_reduction']\n",
    "\n",
    "t_statistic, p_value = ttest_ind(s_size, e_size)\n",
    "print(f'T-statistic: {t_statistic}')\n",
    "print(f'P-value: {p_value}')\n",
    "alpha = 0.05\n",
    "if p_value < alpha:\n",
    "    print('statistically significant')\n",
    "else:\n",
    "    print('no significal significance')\n",
    "    \n",
    "t_statistic, p_value = mannwhitneyu(s_size, e_size, method=\"exact\")\n",
    "print(f'T-statistic: {t_statistic}')\n",
    "print(f'P-value: {p_value}')\n",
    "alpha = 0.05\n",
    "if p_value < alpha:\n",
    "    print('statistically significant')\n",
    "else:\n",
    "    print('no significal significance')"
   ]
  },
  {
   "cell_type": "code",
   "execution_count": 24,
   "id": "1adf50ea",
   "metadata": {},
   "outputs": [
    {
     "name": "stdout",
     "output_type": "stream",
     "text": [
      "T-statistic: 1.476954369805311\n",
      "P-value: 0.1486299661902992\n",
      "no significal significance\n",
      "T-statistic: 0.0\n",
      "P-value: 1.0\n",
      "no significal significance\n",
      "T-statistic: -0.003763633861494445\n",
      "P-value: 0.9970204272252814\n",
      "no significal significance\n",
      "mann-whitney\n",
      "T-statistic: 206.0\n",
      "P-value: 0.21315471189820062\n",
      "no significal significance\n",
      "T-statistic: 180.5\n",
      "P-value: 1.0\n",
      "no significal significance\n",
      "T-statistic: 144.5\n",
      "P-value: 1.0\n",
      "no significal significance\n"
     ]
    }
   ],
   "source": [
    "a_s_size = filtered_size_df[(filtered_size_df['subject']=='asterisk')&(filtered_size_df['tool']=='STARTS')]['testsuite_reduction']\n",
    "i_s_size = filtered_size_df[(filtered_size_df['subject']=='imaging')&(filtered_size_df['tool']=='STARTS')]['testsuite_reduction']\n",
    "v_s_size = filtered_size_df[(filtered_size_df['subject']=='validator')&(filtered_size_df['tool']=='STARTS')]['testsuite_reduction']\n",
    "a_e_size = filtered_size_df[(filtered_size_df['subject']=='asterisk')&(filtered_size_df['tool']=='Ekstazi')]['testsuite_reduction']\n",
    "i_e_size = filtered_size_df[(filtered_size_df['subject']=='imaging')&(filtered_size_df['tool']=='Ekstazi')]['testsuite_reduction']\n",
    "v_e_size = filtered_size_df[(filtered_size_df['subject']=='validator')&(filtered_size_df['tool']=='Ekstazi')]['testsuite_reduction']\n",
    "\n",
    "t_statistic, p_value = ttest_ind(a_s_size, a_e_size)\n",
    "print(f'T-statistic: {t_statistic}')\n",
    "print(f'P-value: {p_value}')\n",
    "alpha = 0.05\n",
    "if p_value < alpha:\n",
    "    print('statistically significant')\n",
    "else:\n",
    "    print('no significal significance')\n",
    "    \n",
    "t_statistic, p_value = ttest_ind(i_s_size, i_s_size)\n",
    "print(f'T-statistic: {t_statistic}')\n",
    "print(f'P-value: {p_value}')\n",
    "alpha = 0.05\n",
    "if p_value < alpha:\n",
    "    print('statistically significant')\n",
    "else:\n",
    "    print('no significal significance')\n",
    "    \n",
    "t_statistic, p_value = ttest_ind(v_s_size, v_e_size)\n",
    "print(f'T-statistic: {t_statistic}')\n",
    "print(f'P-value: {p_value}')\n",
    "alpha = 0.05\n",
    "if p_value < alpha:\n",
    "    print('statistically significant')\n",
    "else:\n",
    "    print('no significal significance')\n",
    "\n",
    "print('mann-whitney')\n",
    "t_statistic, p_value = mannwhitneyu(a_s_size, a_e_size, method='exact')\n",
    "print(f'T-statistic: {t_statistic}')\n",
    "print(f'P-value: {p_value}')\n",
    "alpha = 0.05\n",
    "if p_value < alpha:\n",
    "    print('statistically significant')\n",
    "else:\n",
    "    print('no significal significance')\n",
    "    \n",
    "t_statistic, p_value = mannwhitneyu(i_s_size, i_s_size, method='exact')\n",
    "print(f'T-statistic: {t_statistic}')\n",
    "print(f'P-value: {p_value}')\n",
    "alpha = 0.05\n",
    "if p_value < alpha:\n",
    "    print('statistically significant')\n",
    "else:\n",
    "    print('no significal significance')\n",
    "    \n",
    "t_statistic, p_value = mannwhitneyu(v_s_size, v_e_size, method='exact')\n",
    "print(f'T-statistic: {t_statistic}')\n",
    "print(f'P-value: {p_value}')\n",
    "alpha = 0.05\n",
    "if p_value < alpha:\n",
    "    print('statistically significant')\n",
    "else:\n",
    "    print('no significal significance')"
   ]
  },
  {
   "cell_type": "code",
   "execution_count": 25,
   "id": "0d40452a",
   "metadata": {},
   "outputs": [
    {
     "data": {
      "text/plain": [
       "Index(['subject', 'rev', 'tool', 'time_full_suite', 'end-to-end',\n",
       "       'endtoend_reduction', 'total_tests', 'selected_test_classes',\n",
       "       'percent_classes_selected', 'changed_classes',\n",
       "       'percent_mutatants_killed', ' main_files', ' main_loc', ' test_files',\n",
       "       ' test_loc', 'total_classes', 'percent_of_test_classes',\n",
       "       ' all_test_cases', 'selected_test_cases', 'testsuite_reduction',\n",
       "       'testsuite_reduction%'],\n",
       "      dtype='object')"
      ]
     },
     "execution_count": 25,
     "metadata": {},
     "output_type": "execute_result"
    }
   ],
   "source": [
    "df.columns\n"
   ]
  },
  {
   "cell_type": "code",
   "execution_count": 26,
   "id": "442a86dd",
   "metadata": {},
   "outputs": [
    {
     "data": {
      "text/html": [
       "<div>\n",
       "<style scoped>\n",
       "    .dataframe tbody tr th:only-of-type {\n",
       "        vertical-align: middle;\n",
       "    }\n",
       "\n",
       "    .dataframe tbody tr th {\n",
       "        vertical-align: top;\n",
       "    }\n",
       "\n",
       "    .dataframe thead th {\n",
       "        text-align: right;\n",
       "    }\n",
       "</style>\n",
       "<table border=\"1\" class=\"dataframe\">\n",
       "  <thead>\n",
       "    <tr style=\"text-align: right;\">\n",
       "      <th></th>\n",
       "      <th>subject</th>\n",
       "      <th>rev</th>\n",
       "      <th>tool</th>\n",
       "      <th>endtoend_reduction</th>\n",
       "    </tr>\n",
       "  </thead>\n",
       "  <tbody>\n",
       "    <tr>\n",
       "      <th>6</th>\n",
       "      <td>asterisk</td>\n",
       "      <td>rev_10</td>\n",
       "      <td>STARTS</td>\n",
       "      <td>7.668</td>\n",
       "    </tr>\n",
       "    <tr>\n",
       "      <th>7</th>\n",
       "      <td>asterisk</td>\n",
       "      <td>rev_10</td>\n",
       "      <td>Ekstazi</td>\n",
       "      <td>8.096</td>\n",
       "    </tr>\n",
       "    <tr>\n",
       "      <th>12</th>\n",
       "      <td>asterisk</td>\n",
       "      <td>rev_11</td>\n",
       "      <td>STARTS</td>\n",
       "      <td>22.251</td>\n",
       "    </tr>\n",
       "    <tr>\n",
       "      <th>13</th>\n",
       "      <td>asterisk</td>\n",
       "      <td>rev_11</td>\n",
       "      <td>Ekstazi</td>\n",
       "      <td>22.311</td>\n",
       "    </tr>\n",
       "    <tr>\n",
       "      <th>18</th>\n",
       "      <td>validator</td>\n",
       "      <td>rev_12</td>\n",
       "      <td>STARTS</td>\n",
       "      <td>23.114</td>\n",
       "    </tr>\n",
       "    <tr>\n",
       "      <th>...</th>\n",
       "      <td>...</td>\n",
       "      <td>...</td>\n",
       "      <td>...</td>\n",
       "      <td>...</td>\n",
       "    </tr>\n",
       "    <tr>\n",
       "      <th>285</th>\n",
       "      <td>asterisk</td>\n",
       "      <td>rev_8</td>\n",
       "      <td>Ekstazi</td>\n",
       "      <td>22.192</td>\n",
       "    </tr>\n",
       "    <tr>\n",
       "      <th>288</th>\n",
       "      <td>imaging</td>\n",
       "      <td>rev_9</td>\n",
       "      <td>STARTS</td>\n",
       "      <td>8.443</td>\n",
       "    </tr>\n",
       "    <tr>\n",
       "      <th>289</th>\n",
       "      <td>imaging</td>\n",
       "      <td>rev_9</td>\n",
       "      <td>Ekstazi</td>\n",
       "      <td>8.412</td>\n",
       "    </tr>\n",
       "    <tr>\n",
       "      <th>290</th>\n",
       "      <td>validator</td>\n",
       "      <td>rev_9</td>\n",
       "      <td>STARTS</td>\n",
       "      <td>21.758</td>\n",
       "    </tr>\n",
       "    <tr>\n",
       "      <th>291</th>\n",
       "      <td>validator</td>\n",
       "      <td>rev_9</td>\n",
       "      <td>Ekstazi</td>\n",
       "      <td>22.229</td>\n",
       "    </tr>\n",
       "  </tbody>\n",
       "</table>\n",
       "<p>116 rows × 4 columns</p>\n",
       "</div>"
      ],
      "text/plain": [
       "       subject     rev     tool  endtoend_reduction\n",
       "6     asterisk  rev_10   STARTS               7.668\n",
       "7     asterisk  rev_10  Ekstazi               8.096\n",
       "12    asterisk  rev_11   STARTS              22.251\n",
       "13    asterisk  rev_11  Ekstazi              22.311\n",
       "18   validator  rev_12   STARTS              23.114\n",
       "..         ...     ...      ...                 ...\n",
       "285   asterisk   rev_8  Ekstazi              22.192\n",
       "288    imaging   rev_9   STARTS               8.443\n",
       "289    imaging   rev_9  Ekstazi               8.412\n",
       "290  validator   rev_9   STARTS              21.758\n",
       "291  validator   rev_9  Ekstazi              22.229\n",
       "\n",
       "[116 rows x 4 columns]"
      ]
     },
     "execution_count": 26,
     "metadata": {},
     "output_type": "execute_result"
    }
   ],
   "source": [
    "moe_df = df.loc[:,['subject', 'rev', 'tool', 'endtoend_reduction']]\n",
    "moe_df"
   ]
  },
  {
   "cell_type": "code",
   "execution_count": 27,
   "id": "39746c82",
   "metadata": {},
   "outputs": [
    {
     "data": {
      "text/html": [
       "<div>\n",
       "<style scoped>\n",
       "    .dataframe tbody tr th:only-of-type {\n",
       "        vertical-align: middle;\n",
       "    }\n",
       "\n",
       "    .dataframe tbody tr th {\n",
       "        vertical-align: top;\n",
       "    }\n",
       "\n",
       "    .dataframe thead th {\n",
       "        text-align: right;\n",
       "    }\n",
       "</style>\n",
       "<table border=\"1\" class=\"dataframe\">\n",
       "  <thead>\n",
       "    <tr style=\"text-align: right;\">\n",
       "      <th></th>\n",
       "      <th>subject</th>\n",
       "      <th>rev</th>\n",
       "      <th>tool</th>\n",
       "      <th>testsuite_reduction</th>\n",
       "    </tr>\n",
       "  </thead>\n",
       "  <tbody>\n",
       "    <tr>\n",
       "      <th>6</th>\n",
       "      <td>asterisk</td>\n",
       "      <td>rev_10</td>\n",
       "      <td>STARTS</td>\n",
       "      <td>0.861111</td>\n",
       "    </tr>\n",
       "    <tr>\n",
       "      <th>7</th>\n",
       "      <td>asterisk</td>\n",
       "      <td>rev_10</td>\n",
       "      <td>Ekstazi</td>\n",
       "      <td>0.952381</td>\n",
       "    </tr>\n",
       "    <tr>\n",
       "      <th>12</th>\n",
       "      <td>asterisk</td>\n",
       "      <td>rev_11</td>\n",
       "      <td>STARTS</td>\n",
       "      <td>0.908730</td>\n",
       "    </tr>\n",
       "    <tr>\n",
       "      <th>13</th>\n",
       "      <td>asterisk</td>\n",
       "      <td>rev_11</td>\n",
       "      <td>Ekstazi</td>\n",
       "      <td>0.912698</td>\n",
       "    </tr>\n",
       "    <tr>\n",
       "      <th>18</th>\n",
       "      <td>validator</td>\n",
       "      <td>rev_12</td>\n",
       "      <td>STARTS</td>\n",
       "      <td>0.979167</td>\n",
       "    </tr>\n",
       "    <tr>\n",
       "      <th>...</th>\n",
       "      <td>...</td>\n",
       "      <td>...</td>\n",
       "      <td>...</td>\n",
       "      <td>...</td>\n",
       "    </tr>\n",
       "    <tr>\n",
       "      <th>285</th>\n",
       "      <td>asterisk</td>\n",
       "      <td>rev_8</td>\n",
       "      <td>Ekstazi</td>\n",
       "      <td>0.825397</td>\n",
       "    </tr>\n",
       "    <tr>\n",
       "      <th>288</th>\n",
       "      <td>imaging</td>\n",
       "      <td>rev_9</td>\n",
       "      <td>STARTS</td>\n",
       "      <td>0.182927</td>\n",
       "    </tr>\n",
       "    <tr>\n",
       "      <th>289</th>\n",
       "      <td>imaging</td>\n",
       "      <td>rev_9</td>\n",
       "      <td>Ekstazi</td>\n",
       "      <td>0.369338</td>\n",
       "    </tr>\n",
       "    <tr>\n",
       "      <th>290</th>\n",
       "      <td>validator</td>\n",
       "      <td>rev_9</td>\n",
       "      <td>STARTS</td>\n",
       "      <td>0.930556</td>\n",
       "    </tr>\n",
       "    <tr>\n",
       "      <th>291</th>\n",
       "      <td>validator</td>\n",
       "      <td>rev_9</td>\n",
       "      <td>Ekstazi</td>\n",
       "      <td>0.928819</td>\n",
       "    </tr>\n",
       "  </tbody>\n",
       "</table>\n",
       "<p>109 rows × 4 columns</p>\n",
       "</div>"
      ],
      "text/plain": [
       "       subject     rev     tool  testsuite_reduction\n",
       "6     asterisk  rev_10   STARTS             0.861111\n",
       "7     asterisk  rev_10  Ekstazi             0.952381\n",
       "12    asterisk  rev_11   STARTS             0.908730\n",
       "13    asterisk  rev_11  Ekstazi             0.912698\n",
       "18   validator  rev_12   STARTS             0.979167\n",
       "..         ...     ...      ...                  ...\n",
       "285   asterisk   rev_8  Ekstazi             0.825397\n",
       "288    imaging   rev_9   STARTS             0.182927\n",
       "289    imaging   rev_9  Ekstazi             0.369338\n",
       "290  validator   rev_9   STARTS             0.930556\n",
       "291  validator   rev_9  Ekstazi             0.928819\n",
       "\n",
       "[109 rows x 4 columns]"
      ]
     },
     "execution_count": 27,
     "metadata": {},
     "output_type": "execute_result"
    }
   ],
   "source": [
    "moe_size = filtered_size_df.loc[:,['subject', 'rev', 'tool', 'testsuite_reduction']]\n",
    "moe_size"
   ]
  },
  {
   "cell_type": "code",
   "execution_count": 28,
   "id": "eb54f6da",
   "metadata": {},
   "outputs": [],
   "source": [
    "# moe_df.to_csv('time.csv', index=False)"
   ]
  },
  {
   "cell_type": "code",
   "execution_count": 29,
   "id": "77e14526",
   "metadata": {},
   "outputs": [],
   "source": [
    "# moe_size.to_csv('size.csv', index=False)"
   ]
  },
  {
   "cell_type": "code",
   "execution_count": 30,
   "id": "a20dc593",
   "metadata": {},
   "outputs": [
    {
     "ename": "ModuleNotFoundError",
     "evalue": "No module named 'statsmodels'",
     "output_type": "error",
     "traceback": [
      "\u001b[1;31m---------------------------------------------------------------------------\u001b[0m",
      "\u001b[1;31mModuleNotFoundError\u001b[0m                       Traceback (most recent call last)",
      "Input \u001b[1;32mIn [30]\u001b[0m, in \u001b[0;36m<cell line: 1>\u001b[1;34m()\u001b[0m\n\u001b[1;32m----> 1\u001b[0m \u001b[38;5;28;01mimport\u001b[39;00m \u001b[38;5;21;01mstatsmodels\u001b[39;00m\u001b[38;5;21;01m.\u001b[39;00m\u001b[38;5;21;01mapi\u001b[39;00m \u001b[38;5;28;01mas\u001b[39;00m \u001b[38;5;21;01msm\u001b[39;00m \n\u001b[0;32m      2\u001b[0m \u001b[38;5;28;01mfrom\u001b[39;00m \u001b[38;5;21;01mstatsmodels\u001b[39;00m\u001b[38;5;21;01m.\u001b[39;00m\u001b[38;5;21;01mformula\u001b[39;00m\u001b[38;5;21;01m.\u001b[39;00m\u001b[38;5;21;01mapi\u001b[39;00m \u001b[38;5;28;01mimport\u001b[39;00m ols\n",
      "\u001b[1;31mModuleNotFoundError\u001b[0m: No module named 'statsmodels'"
     ]
    }
   ],
   "source": [
    "import statsmodels.api as sm \n",
    "from statsmodels.formula.api import ols "
   ]
  },
  {
   "cell_type": "code",
   "execution_count": null,
   "id": "5b54b30e",
   "metadata": {},
   "outputs": [],
   "source": [
    "model = ols('testsuite_reduction ~ C(tool) + C(subject) + C(tool):C(subject)', \n",
    "            data=filtered_size_df).fit() \n",
    "result = sm.stats.anova_lm(model, type=2) \n",
    "  \n",
    "# Print the result \n",
    "print(result) "
   ]
  },
  {
   "cell_type": "code",
   "execution_count": null,
   "id": "29b1390f",
   "metadata": {},
   "outputs": [],
   "source": [
    "model = ols('endtoend_reduction ~ C(tool) + C(subject) + C(tool):C(subject)', \n",
    "            data=df).fit() \n",
    "result = sm.stats.anova_lm(model, type=2) \n",
    "  \n",
    "# Print the result \n",
    "print(result) "
   ]
  },
  {
   "cell_type": "code",
   "execution_count": null,
   "id": "46b2f575",
   "metadata": {},
   "outputs": [],
   "source": []
  }
 ],
 "metadata": {
  "kernelspec": {
   "display_name": "Python 3 (ipykernel)",
   "language": "python",
   "name": "python3"
  },
  "language_info": {
   "codemirror_mode": {
    "name": "ipython",
    "version": 3
   },
   "file_extension": ".py",
   "mimetype": "text/x-python",
   "name": "python",
   "nbconvert_exporter": "python",
   "pygments_lexer": "ipython3",
   "version": "3.8.13"
  }
 },
 "nbformat": 4,
 "nbformat_minor": 5
}
